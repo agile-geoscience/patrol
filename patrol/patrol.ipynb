{
 "metadata": {
  "name": "Wikibot for new pages"
 },
 "nbformat": 3,
 "nbformat_minor": 0,
 "worksheets": [
  {
   "cells": [
    {
     "cell_type": "markdown",
     "metadata": {},
     "source": "Purpose\n-------\nWe'd like a bot to monitor new pages in subsurfwiki.org. New pages should be examined for various features, given a score, and the worst offenders marked for deletion. Other pages with a poor score can simply be listed for patrol.\n\nApproach\n--------\nUse the **mwclient** library to list new pages, then visit those pages and parse them. We'll build lists and send them to an HTML page using some sort of template and (say) Bootstrap styling. We can just put that page on the server, to be visited from a subsurfwiki.org/reports page."
    },
    {
     "cell_type": "code",
     "collapsed": false,
     "input": "import mwclient\nuser = 'exbot'\npassword = 'Castafiore2001'\nurl = 'subsurfwiki.org'\npath = '/mediawiki/'\nsite = mwclient.Site(url,path)\nsite.login(user,password)",
     "language": "python",
     "metadata": {},
     "outputs": [],
     "prompt_number": 23
    },
    {
     "cell_type": "markdown",
     "metadata": {},
     "source": "Pseudocode\n----------\n1. Set up and log in\n1. Get a list of the new pages\n1. Step over the list and evaluate for various criteria (below)\n1. Rank the new pages according to their scores\n1. Put the ranked list, perhaps in sections, on a web page\n1. Email the result to certain people\n1. Consider adding special section for subsurface pages, sending to Juli\n\nCriteria\n--------\n* Length\n* Incorrectly formatted titles\n* No references\n* No categories\n* Underlining, colours, linebreaks, and other poor formatting\n\nNew pages\n------"
    },
    {
     "cell_type": "code",
     "collapsed": false,
     "input": "new_pages = [new_page['title'] for new_page in site.recentchanges() if new_page['type'] == u'new' and new_page['ns'] == 0]",
     "language": "python",
     "metadata": {},
     "outputs": [],
     "prompt_number": 19
    },
    {
     "cell_type": "code",
     "collapsed": false,
     "input": "new_pages",
     "language": "python",
     "metadata": {},
     "outputs": [
      {
       "metadata": {},
       "output_type": "pyout",
       "prompt_number": 18,
       "text": "[u'Page 4',\n u'Page 3',\n u'Page 2',\n u'Page 1',\n u'Things you can do',\n u'Unsolved problems',\n u'Sequence stratigraphy calibration app',\n u'Seismic quality',\n u\"Jean le Rond d'Alembert\",\n u'Frackability',\n u'Uncertainty in spectral decomposition',\n u'Gabor uncertainty',\n u'Crude price/NG',\n u'Geophysics Hackathon 2013',\n u'Seismic processing']"
      }
     ],
     "prompt_number": 18
    },
    {
     "cell_type": "code",
     "collapsed": false,
     "input": "import re\nresults = {}\nfor p in new_pages:\n    page = site.Pages[p]\n    # Skip redirects and subpages\n    if page.redirect or ('/' in p):\n        continue\n    # Length: 0 bytes scores 0, 1000 bytes or more scores 5\n    results[p] = [min(int(page.length/200),5)]\n    # Categories: 1 per cat, up to max of 3\n    results[p].append(min(len([c for c in page.categories()]),3))\n    # Images: 1 per image, up to a max of 3\n    results[p].append(min(len([c for c in page.images()]),3))\n    # Backlinks: 1 per link, up to a max of 3\n    results[p].append(min(len([c for c in page.backlinks()]),3))\n    # Links: 1 per link, up to a max of 3\n    results[p].append(min(len([c for c in page.links()]),3))\n    # References: 1 per ref, up to a max of 3\n    results[p].append(min(len(re.findall(r\"<ref>\",page.edit())),3))\n\n    # Title case name: 0 or 1\n    # This could be much improved!\n    words = filter(None,re.split(r'[ -,\\.]',p))\n    titlecase = sum([word.istitle() for word in words[1:]])\n    total = len(words)-1.05  # Protect against div by 0\n    proportion = int( 5 * titlecase / total )\n    results[p].append(proportion)  # Anything above 1 could well be title case",
     "language": "python",
     "metadata": {},
     "outputs": [],
     "prompt_number": 21
    },
    {
     "cell_type": "code",
     "collapsed": false,
     "input": "results",
     "language": "python",
     "metadata": {},
     "outputs": [
      {
       "metadata": {},
       "output_type": "pyout",
       "prompt_number": 22,
       "text": "{u'Frackability': [4, 2, 0, 1, 1, 1, 0],\n u'Gabor uncertainty': [5, 2, 0, 2, 1, 2, 0],\n u'Geophysics Hackathon 2013': [5, 3, 3, 3, 3, 0, 2],\n u\"Jean le Rond d'Alembert\": [5, 2, 2, 2, 0, 3, 2],\n u'Page 1': [0, 3, 1, 0, 0, 0, 0],\n u'Page 2': [0, 3, 1, 0, 0, 0, 0],\n u'Page 3': [0, 2, 1, 0, 0, 0, 0],\n u'Page 4': [0, 3, 1, 0, 0, 0, 0],\n u'Seismic processing': [5, 0, 0, 1, 1, 0, 0],\n u'Seismic quality': [5, 1, 2, 1, 3, 0, 0],\n u'Sequence stratigraphy calibration app': [5, 1, 0, 1, 2, 0, 0],\n u'Things you can do': [5, 0, 0, 0, 3, 2, 0],\n u'Uncertainty in spectral decomposition': [5, 3, 3, 0, 3, 3, 0]}"
      }
     ],
     "prompt_number": 22
    },
    {
     "cell_type": "markdown",
     "metadata": {},
     "source": "Results\n-------\nNow we 'just' need to parse the results and build a display. The display can simply be a list."
    },
    {
     "cell_type": "code",
     "collapsed": false,
     "input": "good, bad = {}, {}\nbest_score = 0\nfor p in results:\n    score = sum(results[p])\n    if score >= 10:\n        good[p] = results[p]\n        if score > best_score:\n            best = p\n            best_score = score\n    else:\n        bad[p] = results[p]\n\nworst_new_pages = sorted(bad, key=lambda x : sum(bad[x]))\nworst_new_pages",
     "language": "python",
     "metadata": {},
     "outputs": [
      {
       "metadata": {},
       "output_type": "pyout",
       "prompt_number": 44,
       "text": "[u'Page 3',\n u'Page 4',\n u'Page 2',\n u'Page 1',\n u'Seismic processing',\n u'Frackability',\n u'Sequence stratigraphy calibration app']"
      }
     ],
     "prompt_number": 44
    },
    {
     "cell_type": "code",
     "collapsed": false,
     "input": "best",
     "language": "python",
     "metadata": {},
     "outputs": [
      {
       "metadata": {},
       "output_type": "pyout",
       "prompt_number": 45,
       "text": "u'Geophysics Hackathon 2013'"
      }
     ],
     "prompt_number": 45
    },
    {
     "cell_type": "code",
     "collapsed": false,
     "input": "possibly_titlecase = [r for r in results if results[r][6]>=2]\npossibly_titlecase",
     "language": "python",
     "metadata": {},
     "outputs": [
      {
       "metadata": {},
       "output_type": "pyout",
       "prompt_number": 31,
       "text": "[u\"Jean le Rond d'Alembert\", u'Geophysics Hackathon 2013']"
      }
     ],
     "prompt_number": 31
    },
    {
     "cell_type": "markdown",
     "metadata": {},
     "source": " At this point, I think I need to depart from the world of Notebooks, and get onto the server. "
    }
   ],
   "metadata": {}
  }
 ]
}